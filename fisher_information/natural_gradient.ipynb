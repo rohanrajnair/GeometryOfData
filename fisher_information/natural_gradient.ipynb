{
 "cells": [
  {
   "cell_type": "markdown",
   "id": "d88fce07",
   "metadata": {},
   "source": [
    "## Geometry of Data HW 4: Information Geometry\n",
    "\n",
    "#### Rohan Nair\n",
    "#### rrn7dx@virginia.edu\n",
    "#### 12/5/21"
   ]
  },
  {
   "cell_type": "markdown",
   "id": "9e7a0603",
   "metadata": {},
   "source": [
    "### Problem 1\n",
    "\n",
    "$s(\\theta, \\phi) = (\\cos\\theta\\cos\\phi, \\sin\\theta\\cos\\phi, \\sin\\phi)$\n",
    "\n",
    "#### a) \n",
    "\n",
    "Fisher information metric for Gaussian pdf:\n",
    "\n",
    "$g = \\begin{bmatrix}\n",
    "\\frac{1}{\\sigma^2} & 0\\\\\n",
    "0 & \\frac{2}{\\sigma^2}\n",
    "\\end{bmatrix}$\n",
    "\n",
    "$\\begin{bmatrix}\n",
    "g_{11} = \\frac{1}{\\sigma^2} & g_{12} = 0\\\\\n",
    "g_{21} = 0 & g_{22} = \\frac{2}{\\sigma^2}\n",
    "\\end{bmatrix}$\n",
    "\n",
    "\n",
    "Inverse metric: \n",
    "\n",
    "$\\begin{align*}\n",
    "&g^{-1} = \\frac{1}{g_{11}g_{22} - g_{12}g_{21}} \\begin{bmatrix}\n",
    "g_{22} & -g_{12}\\\\\n",
    "-g_{21} & g_{11}\n",
    "\\end{bmatrix} \\\\\n",
    "&= \\begin{bmatrix}\n",
    "\\sigma^2 & 0\\\\\n",
    "0 & \\frac{\\sigma^2}{2}\n",
    "\\end{bmatrix}\n",
    "\\end{align*}$\n",
    "\n",
    "$\\begin{bmatrix}\n",
    "g^{11} = \\sigma^2 & g^{12} = 0\\\\\n",
    "g^{21} = 0 & g^{22} = \\frac{\\sigma^2}{2}\n",
    "\\end{bmatrix}$\n",
    "\n",
    "\n",
    "$\\begin{matrix}\n",
    "\\frac{\\partial g_{11}}{\\partial x^1} = 0 & \\frac{\\partial g_{11}}{\\partial x^2} = \\frac{-2}{\\sigma^2} \\\\\n",
    "\\frac{\\partial g_{12}}{\\partial x^1} = 0 & \\frac{\\partial g_{12}}{\\partial x^2} = 0 \\\\\n",
    "\\frac{\\partial g_{21}}{\\partial x^1} = 0 & \\frac{\\partial g_{21}}{\\partial x^2} = 0 \\\\\n",
    "\\frac{\\partial g_{22}}{\\partial x^1} = 0 & \\frac{\\partial g_{22}}{\\partial x^2} = \\frac{-4}{\\sigma^3}\n",
    "\\end{matrix}$\n",
    "\n",
    "\n",
    "Formulas for Christoffel symbols, $\\Gamma_{ij}^k$\n",
    "\n",
    "$\\Gamma_{ij}^k = \\frac{1}{2} \\sum_{\\ell=1}^{n} g^{k\\ell} \\left( \\frac{\\partial g_{j\\ell}}{\\partial x^i} + \\frac{\\partial g_{i\\ell}}{\\partial x^j} - \\frac{\\partial g_{ij}}{\\partial x^\\ell} \\right)$\n",
    "\n",
    "\n",
    "$\\Gamma_{\\mu\\mu}^\\mu = \\frac{1}{2}\\left[\\sigma^2\\left(0 + 0 - 0\\right) + 0\\right] = 0$\n",
    "\n",
    "$\\Gamma_{\\mu\\mu}^\\sigma = \\frac{1}{2}\\left[0 + \\frac{\\sigma^2}{2}\\left(0 + 0 + \\frac{2}{\\sigma^3}\\right)\\right] = \\frac{1}{2\\sigma}$\n",
    "\n",
    "$\\Gamma_{\\mu\\sigma}^\\mu = \\frac{1}{2}\\left[\\sigma^2\\left(0 - \\frac{2}{\\sigma^3} - 0\\right) + 0\\right] = \\frac{-1}{\\sigma}$\n",
    "\n",
    "$\\Gamma_{\\mu\\sigma}^\\sigma = \\frac{1}{2}\\left[0 + \\frac{\\sigma^2}{2}\\left(0 + 0 - 0\\right)\\right] = 0$\n",
    "\n",
    "$\\Gamma_{\\sigma\\mu}^\\mu = \\frac{1}{2}\\left[\\sigma^2\\left(-\\frac{2}{\\sigma^3} + 0 - 0\\right) + 0\\right] = \\frac{-1}{\\sigma}$\n",
    "\n",
    "$\\Gamma_{\\sigma\\mu}^\\sigma = \\frac{1}{2}\\left[0 + \\frac{\\sigma^2}{2}\\left(0 + 0 - 0\\right)\\right] = 0$\n",
    "\n",
    "$\\Gamma_{\\sigma\\sigma}^\\mu = \\frac{1}{2}\\left[\\sigma^2\\left(0 + 0 - 0\\right) + 0\\right] = 0$\n",
    "\n",
    "$\\Gamma_{\\sigma\\sigma}^\\sigma = \\frac{1}{2}\\left[0 + \\sigma^2\\left(-\\frac{4}{\\sigma^3} - \\frac{4}{\\sigma^3} + \\frac{4}{\\sigma^3}\\right)\\right] = \\frac{-1}{\\sigma}$\n",
    "\n",
    "#### b) \n",
    "\n",
    "Confirm that curves of the form $(\\mu(t), \\sigma(t)) = (a, be^{ct})$ satisfy the geodesic equation\n",
    "\n",
    "$\\begin{align*}\n",
    "&\\gamma^\\mu(t) = a, \\gamma^\\sigma(t) = be^{ct} \\\\\n",
    "&\\frac{d\\gamma^\\mu}{dt} = 0 , \\frac{d\\gamma^\\sigma}{dt} = bc \\cdot e^{ct} \\\\\n",
    "&\\frac{d^2\\gamma^\\mu}{dt^2} = 0 , \\frac{d^2\\gamma^\\sigma}{dt^2} = bc^2 \\cdot e^{ct} \\\\\n",
    "\\end{align*}$\n",
    "\n",
    "We need to check that the following differential equation is satisfied:\n",
    "\n",
    "$\\begin{align*}\n",
    "&\\frac{d^2\\gamma^k}{dt^2} = -\\sum_{i,j}^{n}\\Gamma_{i,j}^{k}\\left(\\gamma\\left( t \\right) \\right)\\frac{d\\gamma^i}{dt}\\frac{d\\gamma^j}{dt}\\\\\n",
    "\\end{align*}$\n",
    "\n",
    "Now we can begin evaluating the RHS of this equation for $\\mu$ and $\\sigma$:\n",
    "\n",
    "$\\begin{align*}\n",
    "&-\\left[\\Gamma_{\\mu,\\mu}^{\\mu}\\frac{d\\gamma^{\\mu}}{dt}\\frac{d\\gamma^\\mu}{dt} + \\Gamma_{\\mu,\\sigma}^{\\mu}\\frac{d\\gamma^{\\mu}}{dt}\\frac{d\\gamma^\\sigma}{dt} + \\Gamma_{\\sigma,\\mu}^{\\mu}\\frac{d\\gamma^{\\sigma}}{dt}\\frac{d\\gamma^\\mu}{dt} + \\Gamma_{\\sigma,\\sigma}^{\\mu}\\frac{d\\gamma^{\\sigma}}{dt}\\frac{d\\gamma^\\sigma}{dt}\\right] \\\\\n",
    "&= -\\left[0 - \\frac{1}{\\sigma}(0) - \\frac{1}{\\sigma}(0) + 0 \\right] \\\\\n",
    "&= 0 \\\\\n",
    "&= \\frac{d^2\\gamma^\\mu}{dt^2} \\\\\n",
    "\\end{align*}$\n",
    "\n",
    "$\\begin{align*}\n",
    "&-\\left[\\Gamma_{\\mu,\\mu}^{\\sigma}\\frac{d\\gamma^{\\mu}}{dt}\\frac{d\\gamma^\\mu}{dt} + \\Gamma_{\\mu,\\sigma}^{\\sigma}\\frac{d\\gamma^{\\mu}}{dt}\\frac{d\\gamma^\\sigma}{dt} + \\Gamma_{\\sigma,\\mu}^{\\sigma}\\frac{d\\gamma^{\\sigma}}{dt}\\frac{d\\gamma^\\mu}{dt} + \\Gamma_{\\sigma,\\sigma}^{\\sigma}\\frac{d\\gamma^{\\sigma}}{dt}\\frac{d\\gamma^\\sigma}{dt}\\right] \\\\\n",
    "&= -\\left[\\frac{1}{2\\sigma}(0) + 0 + 0 - \\frac{1}{\\sigma}(bc \\cdot e^{ct})(bc \\cdot e^{ct}) \\right] \\\\\n",
    "&= \\frac{(bc \\cdot e^{ct})^2}{\\sigma} \\\\\n",
    "&= \\frac{(bc \\cdot e^{ct})^2}{be^{ct}} \\\\\n",
    "&= bc^2 \\cdot e^{ct} \\\\\n",
    "&= \\frac{d^2\\gamma^\\sigma}{dt^2} \\\\\n",
    "\\end{align*}$\n",
    "\n",
    "Since the LHS and RHS are equivalent for both $\\gamma^\\mu(t)$ and $\\gamma^\\sigma(t)$, we know curves of this form satisfy the geodesic equation. \n",
    "\n",
    "#### c) \n",
    "\n",
    "Confirm that curves of the form: $(\\mu(t), \\sigma(t)) = \\left(a \\tanh(ct) + b, a \\frac{\\sqrt{2}}{2}\\mathrm{sech}(ct)\\right)$ also satisfy the geodesic equation. \n",
    "\n",
    "$\\begin{align*}\n",
    "&\\gamma^\\mu(t) = a \\tanh(ct) + b, \\gamma^\\sigma(t) = a \\frac{\\sqrt{2}}{2}\\mathrm{sech}(ct) \\\\\n",
    "&\\frac{d\\gamma^\\mu}{dt} = ac \\mathrm{sech}(ct) , \\frac{d\\gamma^\\sigma}{dt} = \\frac{-\\sqrt{2}ac \\mathrm{sech}^2(ct)\\tanh(ct)}{2}\\\\\n",
    "&\\frac{d^2\\gamma^\\mu}{dt^2} = -2ac^2\\mathrm{sech}^2(ct)\\tanh(ct) , \\frac{d^2\\gamma^\\sigma}{dt^2} = \\frac{\\sqrt{2}ac^2\\mathrm{sech}^2(ct)(\\tanh^2(ct) - \\mathrm{sech}^2(ct))}{2}\\\\\n",
    "\\end{align*}$\n",
    "\n",
    "$\\begin{align*}\n",
    "&-\\left[\\Gamma_{\\mu,\\mu}^{\\mu}\\frac{d\\gamma^{\\mu}}{dt}\\frac{d\\gamma^\\mu}{dt} + \\Gamma_{\\mu,\\sigma}^{\\mu}\\frac{d\\gamma^{\\mu}}{dt}\\frac{d\\gamma^\\sigma}{dt} + \\Gamma_{\\sigma,\\mu}^{\\mu}\\frac{d\\gamma^{\\sigma}}{dt}\\frac{d\\gamma^\\mu}{dt} + \\Gamma_{\\sigma,\\sigma}^{\\mu}\\frac{d\\gamma^{\\sigma}}{dt}\\frac{d\\gamma^\\sigma}{dt}\\right] \\\\\n",
    "&= -\\left[0 - \\frac{1}{\\sigma}\\left((ac \\mathrm{sech}^2(ct))\\left(\\frac{-\\sqrt{2}ac \\mathrm{sech}(ct)\\tanh(ct)}{2}\\right)\\right) - \\frac{1}{\\sigma}\\left((ac \\mathrm{sech}^2(ct))\\left(\\frac{-\\sqrt{2}ac \\mathrm{sech}(ct)\\tanh(ct)}{2}\\right)\\right) + 0 \\right] \\\\\n",
    "&= \\frac{2}{\\sigma}\\left((ac \\mathrm{sech}^2(ct))\\left(\\frac{-ac \\mathrm{sech}(ct)\\tanh(ct)}{\\sqrt{2}}\\right)\\right)\\\\\n",
    "&= \\frac{-\\sqrt{2}a^3c^2 \\mathrm{sech}^3(ct)\\tanh(ct)}{a \\frac{\\sqrt{2}}{2}\\mathrm{sech}(ct)}\\\\\n",
    "&= -2ac^2\\mathrm{sech}^2(ct)\\tanh(ct)\\\\\n",
    "&= \\frac{d^2\\gamma^\\mu}{dt^2}\n",
    "\\end{align*}$\n",
    "\n",
    "$\\begin{align*}\n",
    "&-\\left[\\Gamma_{\\mu,\\mu}^{\\sigma}\\frac{d\\gamma^{\\mu}}{dt}\\frac{d\\gamma^\\mu}{dt} + \\Gamma_{\\mu,\\sigma}^{\\sigma}\\frac{d\\gamma^{\\mu}}{dt}\\frac{d\\gamma^\\sigma}{dt} + \\Gamma_{\\sigma,\\mu}^{\\sigma}\\frac{d\\gamma^{\\sigma}}{dt}\\frac{d\\gamma^\\mu}{dt} + \\Gamma_{\\sigma,\\sigma}^{\\sigma}\\frac{d\\gamma^{\\sigma}}{dt}\\frac{d\\gamma^\\sigma}{dt}\\right] \\\\\n",
    "&= -\\left[\\frac{1}{2\\sigma}a^2c^2 \\mathrm{sech}^2(ct) - \\frac{1}{\\sigma}\\left(\\frac{-\\sqrt{2}ac \\mathrm{sech}^2(ct)\\tanh(ct)}{2}\\right)\\left(\\frac{-\\sqrt{2}ac \\mathrm{sech}^2(ct)\\tanh(ct)}{2}\\right) \\right] \\\\\n",
    "&= - \\frac{a^2c^2 \\mathrm{sech}^2(ct)\\left(1 - \\mathrm{sech}^2(ct)\\tanh^2(ct) \\right)}{ a \\sqrt{2} \\mathrm{sech}(ct)} \\\\\n",
    "&= \\frac{ac^2 \\mathrm{sech}(ct)\\left(\\mathrm{sech}^2(ct)\\tanh^2(ct) -1 \\right)}{ \\sqrt{2}} \\\\\n",
    "&= \\frac{\\sqrt{2}ac^2\\mathrm{sech}^2(ct)(\\tanh^2(ct) -\\mathrm{sech}(ct))}{2} \\\\\n",
    "&= \\frac{d^2\\gamma^\\sigma}{dt^2}\n",
    "\\end{align*}$\n",
    "\n",
    "\n",
    "#### d)\n",
    "\n",
    "Finding geodesic between $N(0,1)$ and  $N(0,2)$\n",
    "\n",
    "$(\\mu(t), \\sigma(t)) = (a, be^{ct})$\n",
    "\n",
    "$\\begin{align*}\n",
    "&a = 0 \\\\\n",
    "&be^{c \\cdot 0} = 1 \\\\\n",
    "&b = 1 \\\\\n",
    "&e^{c \\cdot 1)} = 2 \\\\\n",
    "& c = \\ln(2) = 0.6931 \\\\\n",
    "\\end{align*}$\n",
    "\n",
    "Finding geodesic between $N(0,1)$ and  $N(0,2), t \\in [0,1]$\n",
    "\n",
    "$\\begin{align*}\n",
    "&a = 0 \\\\\n",
    "&be^{c \\cdot 0} = 4 \\\\\n",
    "&b = 4 \\\\\n",
    "&4e^{c \\cdot 1)} = 8 \\\\\n",
    "& c = \\ln(2) = 0.6931 \\\\\n",
    "\\end{align*}$"
   ]
  },
  {
   "cell_type": "code",
   "execution_count": 1,
   "id": "604d78f4",
   "metadata": {},
   "outputs": [
    {
     "data": {
      "image/png": "[encoded data removed]",
      "text/plain": [
       "<Figure size 432x288 with 1 Axes>"
      ]
     },
     "metadata": {
      "needs_background": "light"
     },
     "output_type": "display_data"
    }
   ],
   "source": [
    "import matplotlib.pyplot as plt\n",
    "import numpy as np\n",
    "import scipy.stats as stats\n",
    "import math\n",
    "\n",
    "mu = 0\n",
    "sd_1 = 1\n",
    "sd_2 = 2\n",
    "x = np.linspace(mu - 3*sd_2, mu + 3*sd_2, 100)\n",
    "plt.plot(x, stats.norm.pdf(x, mu, sd_1))\n",
    "plt.plot(x, stats.norm.pdf(x, mu, sd_2))\n",
    "plt.title('PDF of $N(0,1)$ and $N(0,2)$')\n",
    "plt.show()"
   ]
  },
  {
   "cell_type": "code",
   "execution_count": 32,
   "id": "47f7d6af",
   "metadata": {},
   "outputs": [
    {
     "data": {
      "text/plain": [
       "Text(0.5, 1.0, 'Geodesic between $N(0,1)$ and $N(0,2)$')"
      ]
     },
     "execution_count": 32,
     "metadata": {},
     "output_type": "execute_result"
    },
    {
     "data": {
      "image/png": "[encoded data removed]",
      "text/plain": [
       "<Figure size 432x288 with 1 Axes>"
      ]
     },
     "metadata": {
      "needs_background": "light"
     },
     "output_type": "display_data"
    }
   ],
   "source": [
    "t1 = 0\n",
    "t2 = 1\n",
    "\n",
    "a = 0\n",
    "b = 1\n",
    "c = np.log(2)\n",
    "\n",
    "x_vals = np.arange(t1, t2, 0.01)\n",
    "sigma_vals = b*np.exp(c*x_vals)\n",
    "\n",
    "mu_vals = []\n",
    "for s in sigma_vals:\n",
    "    mu_vals.append(0)\n",
    "    \n",
    "plt.plot(mu_vals, sigma_vals)\n",
    "plt.xlabel('Mean $(\\mu)$')\n",
    "plt.ylabel('Standard Deviation $(\\sigma)$')\n",
    "plt.title('Geodesic between $N(0,1)$ and $N(0,2)$')"
   ]
  },
  {
   "cell_type": "code",
   "execution_count": 72,
   "id": "d75e9059",
   "metadata": {},
   "outputs": [
    {
     "name": "stdout",
     "output_type": "stream",
     "text": [
      "[[0.96709998]]\n"
     ]
    }
   ],
   "source": [
    "for i in range(len(mu_vals)):\n",
    "    curr_x\n",
    "\n",
    "\n",
    "a = 0\n",
    "b = 1\n",
    "c = np.log(2)\n",
    "\n",
    "\n",
    "prev_x = 0.0\n",
    "prev_y = 1.0\n",
    "\n",
    "tot_len = 0\n",
    "\n",
    "for i in range(1, len(mu_vals)):\n",
    "    curr_x = mu_vals[i]\n",
    "    curr_y = sigma_vals[i]\n",
    "    dx = curr_x - prev_x\n",
    "    dy = curr_y - prev_y\n",
    "    metric = np.matrix([[1/(curr_y**2), 0], [0, 2/(curr_y**2)]])\n",
    "    v = np.array([dx, dy])\n",
    "    v = np.reshape(v, (-1,1))\n",
    "    \n",
    "    curr_len = np.matmul(v.T, metric)\n",
    "    curr_len = np.matmul(curr_len, v)\n",
    "    curr_len = np.sqrt(curr_len)\n",
    "    \n",
    "    tot_len += curr_len\n",
    "    prev_x = curr_x \n",
    "    prev_y = curr_y \n",
    "    \n",
    "print(tot_len)"
   ]
  },
  {
   "cell_type": "markdown",
   "id": "7a74c33b",
   "metadata": {},
   "source": [
    "In order to find the length of the geodesic, we can iterate over the arrays for $\\mu$ and $\\sigma$ over the specified interval and take the difference of adjacent elements to find $dx$ and $dy$. These are the components of a vector $v$:\n",
    "\n",
    "$v = \\begin{bmatrix}{dx \\\\ dy}\\end{bmatrix}$\n",
    "\n",
    "Since we are not in Euclidian space, in order to find the length of $v$ we need to perform the following operation using the standard metric in our parameter space:\n",
    "\n",
    "$||v||^2 = v^T \\begin{bmatrix}\\frac{1}{\\sigma^2} & 0 \\\\ 0 & \\frac{2}{\\sigma^2}\\end{bmatrix} v$\n",
    "\n",
    "We can take the square root of the above expression and integrate over the interval between $t_1$ and $t_2$. \n",
    "\n",
    "The length of the geodesic between $N(0,1)$ and $N(0,2)$ is approximately $0.9671$. "
   ]
  },
  {
   "cell_type": "code",
   "execution_count": 4,
   "id": "e42d9689",
   "metadata": {},
   "outputs": [
    {
     "data": {
      "image/png": "[encoded data removed]",
      "text/plain": [
       "<Figure size 432x288 with 1 Axes>"
      ]
     },
     "metadata": {
      "needs_background": "light"
     },
     "output_type": "display_data"
    }
   ],
   "source": [
    "x = np.linspace(-24, 24, 10000)\n",
    "plt.plot(x, stats.norm.pdf(x, 0, 4))\n",
    "plt.plot(x, stats.norm.pdf(x, 0, 8))\n",
    "plt.title('PDF of $N(0,4)$, $N(0,8)$')\n",
    "plt.show()"
   ]
  },
  {
   "cell_type": "code",
   "execution_count": 73,
   "id": "5e2ef760",
   "metadata": {},
   "outputs": [
    {
     "data": {
      "text/plain": [
       "Text(0.5, 1.0, 'Geodesic between $N(0,4)$ and $N(0,8)$')"
      ]
     },
     "execution_count": 73,
     "metadata": {},
     "output_type": "execute_result"
    },
    {
     "data": {
      "image/png": "[encoded data removed]",
      "text/plain": [
       "<Figure size 432x288 with 1 Axes>"
      ]
     },
     "metadata": {
      "needs_background": "light"
     },
     "output_type": "display_data"
    }
   ],
   "source": [
    "x_vals = np.arange(0, 1, 0.01)\n",
    "\n",
    "a = 0\n",
    "b = 4\n",
    "c = np.log(2)\n",
    "\n",
    "\n",
    "sigma_vals = b*np.exp(c*x_vals)\n",
    "\n",
    "mu_vals = []\n",
    "for s in sigma_vals:\n",
    "    mu_vals.append(0)\n",
    "    \n",
    "plt.plot(mu_vals, sigma_vals)\n",
    "plt.xlabel('Mean $(\\mu)$')\n",
    "plt.ylabel('Standard Deviation $(\\sigma)$')\n",
    "plt.title('Geodesic between $N(0,4)$ and $N(0,8)$')"
   ]
  },
  {
   "cell_type": "code",
   "execution_count": 76,
   "id": "d474b778",
   "metadata": {},
   "outputs": [
    {
     "name": "stdout",
     "output_type": "stream",
     "text": [
      "[[0.96709998]]\n"
     ]
    }
   ],
   "source": [
    "a = 0\n",
    "b = 4\n",
    "c = np.log(2)\n",
    "\n",
    "prev_x = 0.0\n",
    "prev_y = 4.0\n",
    "\n",
    "tot_len = 0\n",
    "\n",
    "for i in range(1, len(mu_vals)):\n",
    "    curr_x = mu_vals[i]\n",
    "    curr_y = sigma_vals[i]\n",
    "    dx = curr_x - prev_x\n",
    "    dy = curr_y - prev_y\n",
    "    metric = np.matrix([[1/(curr_y**2), 0], [0, 2/(curr_y**2)]])\n",
    "    v = np.array([dx, dy])\n",
    "    v = np.reshape(v, (-1,1))\n",
    "    \n",
    "    curr_len = np.matmul(v.T, metric)\n",
    "    curr_len = np.matmul(curr_len, v)\n",
    "    curr_len = np.sqrt(curr_len)\n",
    "    \n",
    "    tot_len += curr_len\n",
    "    prev_x = curr_x \n",
    "    prev_y = curr_y \n",
    "    \n",
    "print(tot_len)"
   ]
  },
  {
   "cell_type": "markdown",
   "id": "8bd93412",
   "metadata": {},
   "source": [
    "The length of the geodesic between $N(0,4)$ and $N(0,8)$ is approximately $0.9671$, which is the same as the length of the geodesic between $N(0,1)$ and $N(0,2)$. We can conjecture that if we have two normal distributions $N_1 = (\\mu, \\sigma_1), N_2 = (\\mu, \\sigma_2)$, as long as we scale both $\\sigma_1$ and $\\sigma_2$ by the same factor, the length of the geodesic between $N_1$ and $N_2$ will remain constant."
   ]
  },
  {
   "cell_type": "markdown",
   "id": "68d97e21",
   "metadata": {},
   "source": [
    "#### e)\n",
    "\n",
    "Finding geodesic between $N(-1,1)$ and  $N(1,1), t \\in [-1,1]$\n",
    "\n",
    "$(\\mu(t), \\sigma(t)) = \\left(a \\tanh(ct) + b, a \\frac{\\sqrt{2}}{2}\\mathrm{sech}(ct)\\right)$\n",
    "\n",
    "$\\begin{align*}\n",
    "&a \\tanh(-c) + b= -1, a \\tanh(c) + b= 1 \\\\\n",
    "& \\tanh(c) - \\tanh(-c) = \\frac{2}{a} \\\\\n",
    "& 2\\tanh(c) = \\sqrt{2}\\mathrm{sech}(c) \\\\\n",
    "& c = \\mathrm{arcsinh}(\\frac{\\sqrt{2}}{2}) \\\\\n",
    "& a = \\sqrt{2}\\cosh(c) \\\\\n",
    "& b = 1 - a \\tanh(c)\n",
    "\\end{align*}$\n",
    "\n"
   ]
  },
  {
   "cell_type": "code",
   "execution_count": 7,
   "id": "c90d671e",
   "metadata": {},
   "outputs": [
    {
     "data": {
      "image/png": "[encoded data removed]",
      "text/plain": [
       "<Figure size 432x288 with 1 Axes>"
      ]
     },
     "metadata": {
      "needs_background": "light"
     },
     "output_type": "display_data"
    }
   ],
   "source": [
    "x = np.linspace(-4, 4, 100)\n",
    "plt.plot(x, stats.norm.pdf(x, -1, 1))\n",
    "plt.plot(x, stats.norm.pdf(x, 1, 1))\n",
    "plt.title('PDF of $N(-1,1)$, $N(1,1)$')\n",
    "plt.show()"
   ]
  },
  {
   "cell_type": "code",
   "execution_count": 77,
   "id": "d0b99c21",
   "metadata": {},
   "outputs": [
    {
     "data": {
      "text/plain": [
       "Text(0.5, 1.0, 'Geodesic between $N(-1,1)$ and $N(1,1)$')"
      ]
     },
     "execution_count": 77,
     "metadata": {},
     "output_type": "execute_result"
    },
    {
     "data": {
      "image/png": "[encoded data removed]",
      "text/plain": [
       "<Figure size 432x288 with 1 Axes>"
      ]
     },
     "metadata": {
      "needs_background": "light"
     },
     "output_type": "display_data"
    }
   ],
   "source": [
    "x_vals = np.arange(-1, 1, 0.01)\n",
    "c = np.arcsinh(np.sqrt(2)/2)\n",
    "a = np.sqrt(2) * np.cosh(c)\n",
    "b = 1 - a*np.tanh(c)\n",
    "\n",
    "mu_vals = a*np.tanh(c*x_vals) + b\n",
    "\n",
    "sigma_vals = a * (np.sqrt(2)/2) * 1/np.cosh(c*x_vals)\n",
    "\n",
    "plt.plot(mu_vals, sigma_vals)\n",
    "plt.xlabel('Mean $(\\mu)$')\n",
    "plt.ylabel('Standard Deviation $(\\sigma)$')\n",
    "plt.title('Geodesic between $N(-1,1)$ and $N(1,1)$')"
   ]
  },
  {
   "cell_type": "code",
   "execution_count": 79,
   "id": "1bd8c1ec",
   "metadata": {},
   "outputs": [
    {
     "name": "stdout",
     "output_type": "stream",
     "text": [
      "[[1.86449673]]\n"
     ]
    }
   ],
   "source": [
    "prev_x = -1.0\n",
    "prev_y = 1.0\n",
    "\n",
    "curr_x = -1.0\n",
    "curr_y = 1.0\n",
    "\n",
    "tot_len = 0\n",
    "\n",
    "dx = 0.01\n",
    "\n",
    "c = np.arcsinh(np.sqrt(2)/2)\n",
    "a = np.sqrt(2) * np.cosh(c)\n",
    "b = 1 - a*np.tanh(c)\n",
    "\n",
    "\n",
    "for i in range(1, len(mu_vals)):\n",
    "    curr_x = mu_vals[i]\n",
    "    curr_y = sigma_vals[i]\n",
    "    dx = curr_x - prev_x\n",
    "    dy = curr_y - prev_y\n",
    "    metric = np.matrix([[1/(curr_y**2), 0], [0, 2/(curr_y**2)]])\n",
    "    v = np.array([dx, dy])\n",
    "    v = np.reshape(v, (-1,1))\n",
    "    \n",
    "    curr_len = np.matmul(v.T, metric)\n",
    "    curr_len = np.matmul(curr_len, v)\n",
    "    curr_len = np.sqrt(curr_len)\n",
    "    \n",
    "    tot_len += curr_len\n",
    "    prev_x = curr_x \n",
    "    prev_y = curr_y \n",
    "    \n",
    "print(tot_len)"
   ]
  },
  {
   "cell_type": "markdown",
   "id": "f5143ec7",
   "metadata": {},
   "source": [
    "The length of the geodesic between $N(-1,1)$ and $N(1,1)$ is approximately $1.8645$. "
   ]
  },
  {
   "cell_type": "code",
   "execution_count": 10,
   "id": "7bfdb74f",
   "metadata": {},
   "outputs": [
    {
     "data": {
      "image/png": "[encoded data removed]",
      "text/plain": [
       "<Figure size 432x288 with 1 Axes>"
      ]
     },
     "metadata": {
      "needs_background": "light"
     },
     "output_type": "display_data"
    }
   ],
   "source": [
    "x = np.linspace(-8, 8, 100)\n",
    "plt.plot(x, stats.norm.pdf(x, -2, 2))\n",
    "plt.plot(x, stats.norm.pdf(x, 2, 2))\n",
    "plt.title('PDF of $N(-2,2)$, $N(2,2)$')\n",
    "plt.show()"
   ]
  },
  {
   "cell_type": "markdown",
   "id": "f816e5b1",
   "metadata": {},
   "source": [
    "Finding geodesic between $N(-2,2)$ and  $N(2,2), t \\in [-1,1]$\n",
    "\n",
    "$(\\mu(t), \\sigma(t)) = \\left(a \\tanh(ct) + b, a \\frac{\\sqrt{2}}{2}\\mathrm{sech}(ct)\\right)$\n",
    "\n",
    "$\\begin{align*}\n",
    "&a \\tanh(-2c) + b= -2, a \\tanh(c) + b= 1 \\\\\n",
    "& \\tanh(2c) - \\tanh(-2c) = \\frac{4}{a} \\\\\n",
    "& 2\\tanh(2c) = \\frac{\\sqrt{2}}{2}\\mathrm{sech}(2c) \\\\\n",
    "& c = \\frac{1}{2}\\mathrm{arcsinh}(\\frac{\\sqrt{2}}{2}) \\\\\n",
    "& a = 2\\sqrt{2}\\cosh(2c) \\\\\n",
    "& b = 2 - a \\tanh(2c)\n",
    "\\end{align*}$\n"
   ]
  },
  {
   "cell_type": "code",
   "execution_count": 83,
   "id": "59ca4413",
   "metadata": {},
   "outputs": [
    {
     "data": {
      "text/plain": [
       "Text(0.5, 1.0, 'Geodesic between $N(-2,2)$ and $N(2,2)$')"
      ]
     },
     "execution_count": 83,
     "metadata": {},
     "output_type": "execute_result"
    },
    {
     "data": {
      "image/png": "[encoded data removed]",
      "text/plain": [
       "<Figure size 432x288 with 1 Axes>"
      ]
     },
     "metadata": {
      "needs_background": "light"
     },
     "output_type": "display_data"
    }
   ],
   "source": [
    "x_vals = np.arange(-2, 2, 0.01)\n",
    "\n",
    "c = 0.5*np.arcsinh(np.sqrt(2)/2)\n",
    "a = 2*np.sqrt(2) * np.cosh(2*c)\n",
    "b = 2 - a*np.tanh(2*c)\n",
    "\n",
    "mu_vals = a*np.tanh(c*x_vals) + b\n",
    "\n",
    "sigma_vals = a * (np.sqrt(2)/2) * 1/np.cosh(c*x_vals)\n",
    "\n",
    "plt.plot(mu_vals, sigma_vals)\n",
    "plt.xlabel('Mean $(\\mu)$')\n",
    "plt.ylabel('Standard Deviation $(\\sigma)$')\n",
    "plt.title('Geodesic between $N(-2,2)$ and $N(2,2)$')"
   ]
  },
  {
   "cell_type": "code",
   "execution_count": 87,
   "id": "1bd372e5",
   "metadata": {},
   "outputs": [
    {
     "name": "stdout",
     "output_type": "stream",
     "text": [
      "[[1.8578003]]\n"
     ]
    }
   ],
   "source": [
    "prev_x = -2.0\n",
    "prev_y = 2.0\n",
    "\n",
    "tot_len = 0.0\n",
    "\n",
    "c = 0.5*np.arcsinh(np.sqrt(2)/2)\n",
    "a = 2*np.sqrt(2) * np.cosh(2*c)\n",
    "b = 2 - a*np.tanh(2*c)\n",
    "\n",
    "for i in range(1, len(mu_vals)):\n",
    "    curr_x = mu_vals[i]\n",
    "    curr_y = sigma_vals[i]\n",
    "    dx = curr_x - prev_x\n",
    "    dy = curr_y - prev_y\n",
    "    metric = np.matrix([[1/(curr_y**2), 0], [0, 2/(curr_y**2)]])\n",
    "    v = np.array([dx, dy])\n",
    "    v = np.reshape(v, (-1,1))\n",
    "    \n",
    "    curr_len = np.matmul(v.T, metric)\n",
    "    curr_len = np.matmul(curr_len, v)\n",
    "    curr_len = np.sqrt(curr_len)\n",
    "    \n",
    "    tot_len += curr_len\n",
    "    \n",
    "    prev_x = curr_x \n",
    "    prev_y = curr_y \n",
    "    \n",
    "print(tot_len)"
   ]
  },
  {
   "cell_type": "markdown",
   "id": "868d4c72",
   "metadata": {},
   "source": [
    "The length of the geodesic between $N(-2,2)$ and $N(2,2)$ is approximately $1.8578$. This is roughly equivalent to the length of the geodesic between $N(-1,1$ and $N(1,1)$.  We can conjecture that if we have two normal distributions $N_1 = (\\mu_1, \\sigma_1), N_2 = (\\mu_2, \\sigma_2)$, as long as we scale both the standard deviation *and* mean by the same factor $k$ (e.g $\\mu_2 = k\\mu_1, \\sigma_2 = k\\sigma_1$), the length of the geodesic between $N_1$ and $N_2$ will remain constant."
   ]
  },
  {
   "cell_type": "markdown",
   "id": "06079945",
   "metadata": {},
   "source": [
    "#### f) \n",
    "\n",
    "Computing Frechet Mean between $N(-1,1)$ and $N(1,1)$ (midpoint of geodesic)"
   ]
  },
  {
   "cell_type": "code",
   "execution_count": 13,
   "id": "b4115c91",
   "metadata": {},
   "outputs": [
    {
     "data": {
      "image/png": "[encoded data removed]",
      "text/plain": [
       "<Figure size 432x288 with 1 Axes>"
      ]
     },
     "metadata": {
      "needs_background": "light"
     },
     "output_type": "display_data"
    }
   ],
   "source": [
    "x_vals = np.arange(-1, 1, 0.01)\n",
    "c = np.arcsinh(np.sqrt(2)/2)\n",
    "a = np.sqrt(2) * np.cosh(c)\n",
    "b = 1 - a*np.tanh(c)\n",
    "\n",
    "mu_vals = a*np.tanh(c*x_vals) + b\n",
    "\n",
    "sigma_vals = a * (np.sqrt(2)/2) * 1/np.cosh(c*x_vals)\n",
    "\n",
    "mid_mu = mu_vals[int(len(mu_vals)/2 - 1)]\n",
    "mid_sd = sigma_vals[int(len(mu_vals)/2 -1)]\n",
    "\n",
    "x = np.linspace(-4, 4, 100)\n",
    "plt.plot(x, stats.norm.pdf(x, -1, 1))\n",
    "plt.plot(x, stats.norm.pdf(x, 1, 1))\n",
    "plt.plot(x, stats.norm.pdf(x, mid_mu, mid_sd))\n",
    "plt.title('PDF of $N(-1,1)$, $N(1,1)$ and Frechet Mean')\n",
    "plt.show()\n"
   ]
  },
  {
   "cell_type": "markdown",
   "id": "cb4cf2d1",
   "metadata": {},
   "source": [
    "The intrinsic mean of the two Gaussian distributions has a higher variance than either of them. This makes sense if we look at the geodesic between the distributions in our parameter space. The arc-like shape of the geodesic shows that the variance increases as we move from the starting point (representing the first distribution) to the midpoint (the Frechet mean) and then decreases as we move from the midpoint to the endpoint (the second distribution). If we were simply looking at an interpolation in Euclidian space, we would see the original distribution slide to the right until it matched the second distribution. "
   ]
  },
  {
   "cell_type": "markdown",
   "id": "840306ef",
   "metadata": {},
   "source": [
    "### Problem 2"
   ]
  },
  {
   "cell_type": "code",
   "execution_count": 14,
   "id": "2428cfb3",
   "metadata": {},
   "outputs": [
    {
     "name": "stdout",
     "output_type": "stream",
     "text": [
      "(12000, 784)\n",
      "(12000,)\n"
     ]
    }
   ],
   "source": [
    "import torch\n",
    "import matplotlib.pyplot as plt\n",
    "from torchvision.datasets import FashionMNIST\n",
    "import numpy as np\n",
    "import matplotlib.pyplot as plt\n",
    "\n",
    "\n",
    "# Pre-processing Fashion MNIST data\n",
    "train_data = FashionMNIST(\"./data\", train = True, download = True)\n",
    "\n",
    "trainX = train_data.data\n",
    "trainY = train_data.targets\n",
    "\n",
    "trainX_filtered = []\n",
    "trainY_filtered = []\n",
    "\n",
    "for i in range(trainX.shape[0]):\n",
    "    # Extracting 2 classes (0 = T-shirt, 1 = Trousers)\n",
    "    if trainY[i] == 0 or trainY[i] == 1:\n",
    "        entry = trainX[i]\n",
    "        entry = np.array(entry)\n",
    "        trainX_filtered.append(entry)\n",
    "        if trainY[i] == 0:\n",
    "            trainY_filtered.append(0)\n",
    "        else:\n",
    "            trainY_filtered.append(1)\n",
    "                \n",
    "\n",
    "trainX_filtered = np.array(trainX_filtered)\n",
    "trainY_filtered = np.array(trainY_filtered)\n",
    "\n",
    "trainX_filtered = np.reshape(trainX_filtered, (-1, 784))\n",
    "\n",
    "print(trainX_filtered.shape)\n",
    "print(trainY_filtered.shape)\n",
    "\n",
    "# Test data \n",
    "test_data = FashionMNIST(\"./data\", train = False, download = True)\n",
    "testX = test_data.data\n",
    "testY = test_data.targets\n",
    "\n",
    "testX_filtered = []\n",
    "testY_filtered = []\n",
    "\n",
    "# Repeating for test set\n",
    "for i in range(testX.shape[0]):\n",
    "    if testY[i] == 0 or testY[i] == 1:\n",
    "        entry = testX[i]\n",
    "        entry = np.array(entry)\n",
    "        testX_filtered.append(entry)\n",
    "        if testY[i] == 0:\n",
    "            testY_filtered.append(0)\n",
    "        else:\n",
    "            testY_filtered.append(1)\n",
    "                \n",
    "testX_filtered = np.array(testX_filtered)\n",
    "testX_filtered = np.reshape(testX_filtered, (-1, 784))\n",
    "\n",
    "testY_filtered = np.array(testY_filtered)\n",
    "\n",
    "# Normalizing data\n",
    "from sklearn.preprocessing import StandardScaler\n",
    "sc_X = StandardScaler()\n",
    "\n",
    "trainX_filtered = sc_X.fit_transform(trainX_filtered)"
   ]
  },
  {
   "cell_type": "code",
   "execution_count": 15,
   "id": "1a47087a",
   "metadata": {},
   "outputs": [
    {
     "data": {
      "text/plain": [
       "<matplotlib.image.AxesImage at 0x1443dd670>"
      ]
     },
     "execution_count": 15,
     "metadata": {},
     "output_type": "execute_result"
    },
    {
     "data": {
      "image/png": "[encoded data removed]",
      "text/plain": [
       "<Figure size 432x288 with 1 Axes>"
      ]
     },
     "metadata": {
      "needs_background": "light"
     },
     "output_type": "display_data"
    }
   ],
   "source": [
    "# Plotting examples from dataset \n",
    "plt.imshow(np.reshape(trainX[0], (28,28)), cmap='gray')"
   ]
  },
  {
   "cell_type": "code",
   "execution_count": 16,
   "id": "f25ead14",
   "metadata": {},
   "outputs": [
    {
     "data": {
      "text/plain": [
       "<matplotlib.image.AxesImage at 0x14444f550>"
      ]
     },
     "execution_count": 16,
     "metadata": {},
     "output_type": "execute_result"
    },
    {
     "data": {
      "image/png": "[encoded data removed]",
      "text/plain": [
       "<Figure size 432x288 with 1 Axes>"
      ]
     },
     "metadata": {
      "needs_background": "light"
     },
     "output_type": "display_data"
    }
   ],
   "source": [
    "plt.imshow(np.reshape(trainX[10], (28,28)), cmap='gray')"
   ]
  },
  {
   "cell_type": "code",
   "execution_count": 24,
   "id": "0fa9c4eb",
   "metadata": {},
   "outputs": [],
   "source": [
    "class FixedStepLR:\n",
    "    def __init__(self, lr, n_iters):\n",
    "        self.theta = None # weights\n",
    "        self.b = 0 # bias\n",
    "        self.lr = lr # learning rate\n",
    "        self.n_iters = n_iters # number of iterations\n",
    "        self.losses = [] # loss at each iteration\n",
    "\n",
    "    def fit(self, X, y, init_theta):\n",
    "        n_samples, n_features = X.shape\n",
    "        self.theta = init_theta\n",
    "\n",
    "        for i in range(self.n_iters):\n",
    "            scores = np.dot(X, self.theta) + self.b\n",
    "            y_pred = self.sigmoid(scores)\n",
    "            \n",
    "            # gradient update \n",
    "            dtheta = np.dot(X.T, (y_pred - y))/n_samples\n",
    "            db = np.sum(y_pred - y)/n_samples\n",
    "\n",
    "            self.theta -= self.lr * dtheta\n",
    "            self.b -= self.lr * db\n",
    "            \n",
    "            self.losses.append(self.cost(y_pred, y, n_samples))\n",
    "            \n",
    "            if i % 10 == 0: # printing loss every 10 iterations\n",
    "                print(\"Current Timestep: \" + str(i) + \" Loss: \" + str(self.cost(y_pred, y, n_samples)))\n",
    "\n",
    "    def predict(self, X):\n",
    "        scores = np.dot(X, self.theta) + self.b # multiplying by weights\n",
    "        y_pred = self.sigmoid(scores) # applying sigmoid \n",
    "        y_pred_class = np.zeros(len(y_pred))\n",
    "        # rounding probability to determine class \n",
    "        for i in range(len(y_pred)):\n",
    "            if y_pred[i] >= 0.5:\n",
    "                y_pred_class[i] = 1\n",
    "            else:\n",
    "                y_pred_class[i] = 0\n",
    "        \n",
    "        return y_pred_class\n",
    "    \n",
    "    def cost(self, y_pred, y, n_samples):\n",
    "        epsilon = 1e-4 # adding epsilon to avoid ln(0)\n",
    "        # binary cross-entropy loss\n",
    "        c = np.sum(-y * np.log(y_pred+epsilon) - (1-y) * np.log(1-y_pred+epsilon))/n_samples\n",
    "        return c\n",
    "\n",
    "    def sigmoid(self, z):\n",
    "        return (1.0 / (1.0 + np.exp(-z)))\n"
   ]
  },
  {
   "cell_type": "code",
   "execution_count": 30,
   "id": "222d8aeb",
   "metadata": {},
   "outputs": [
    {
     "name": "stdout",
     "output_type": "stream",
     "text": [
      "Trial 0\n",
      "Fixed Step LR:\n",
      "Current Timestep: 0 Loss: 6.867372921488435\n",
      "Current Timestep: 10 Loss: 3.7049440936998828\n",
      "Current Timestep: 20 Loss: 1.0345511031709749\n",
      "Current Timestep: 30 Loss: 0.6083907829855627\n",
      "Current Timestep: 40 Loss: 0.44554224931596725\n",
      "Current Timestep: 50 Loss: 0.365758361017219\n",
      "Current Timestep: 60 Loss: 0.31561494635730886\n",
      "Current Timestep: 70 Loss: 0.2734823083646263\n",
      "Current Timestep: 80 Loss: 0.24906937910946647\n",
      "Current Timestep: 90 Loss: 0.22696084116210863\n",
      "Accurary: 0.958\n",
      "\n",
      "\n",
      "Natural Gradient LR:\n"
     ]
    },
    {
     "name": "stderr",
     "output_type": "stream",
     "text": [
      "/var/folders/qq/y9hpp16j3g51tk4ncrbrhw_w0000gn/T/ipykernel_31534/2330562158.py:52: RuntimeWarning: overflow encountered in exp\n",
      "  return (1.0 / (1.0 + np.exp(-z)))\n"
     ]
    },
    {
     "name": "stdout",
     "output_type": "stream",
     "text": [
      "Current Timestep: 0 Loss: 6.867372921488435\n"
     ]
    },
    {
     "name": "stderr",
     "output_type": "stream",
     "text": [
      "/var/folders/qq/y9hpp16j3g51tk4ncrbrhw_w0000gn/T/ipykernel_31534/3732370678.py:81: RuntimeWarning: overflow encountered in exp\n",
      "  return (1.0 / (1.0 + np.exp(-z)))\n"
     ]
    },
    {
     "name": "stdout",
     "output_type": "stream",
     "text": [
      "Current Timestep: 10 Loss: 0.24751190694020492\n",
      "Current Timestep: 20 Loss: 0.203951062576363\n",
      "Current Timestep: 30 Loss: 0.17732341267148946\n",
      "Current Timestep: 40 Loss: 0.16247020092996717\n",
      "Current Timestep: 50 Loss: 0.15628859071169718\n",
      "Current Timestep: 60 Loss: 0.14873515643297117\n",
      "Current Timestep: 70 Loss: 0.14467236762301244\n",
      "Current Timestep: 80 Loss: 0.1364746395729163\n",
      "Current Timestep: 90 Loss: 0.13119259281189963\n",
      "Accurary: 0.9625\n",
      "\n",
      "\n",
      "Trial 1\n",
      "Fixed Step LR:\n",
      "Current Timestep: 0 Loss: 6.939273912439404\n",
      "Current Timestep: 10 Loss: 3.565622156191156\n",
      "Current Timestep: 20 Loss: 0.9794321660958903\n",
      "Current Timestep: 30 Loss: 0.5648851538214101\n",
      "Current Timestep: 40 Loss: 0.4108734369177193\n",
      "Current Timestep: 50 Loss: 0.33904022707091575\n",
      "Current Timestep: 60 Loss: 0.29176271071576443\n",
      "Current Timestep: 70 Loss: 0.2535533212537495\n",
      "Current Timestep: 80 Loss: 0.22061667309793165\n",
      "Current Timestep: 90 Loss: 0.1979612659940239\n",
      "Accurary: 0.9615\n",
      "\n",
      "\n",
      "Natural Gradient LR:\n",
      "Current Timestep: 0 Loss: 6.939273912439404\n",
      "Current Timestep: 10 Loss: 0.2501623940886459\n",
      "Current Timestep: 20 Loss: 0.20326558095036285\n",
      "Current Timestep: 30 Loss: 0.17341707159991698\n",
      "Current Timestep: 40 Loss: 0.1630585175861187\n",
      "Current Timestep: 50 Loss: 0.15621116347190123\n",
      "Current Timestep: 60 Loss: 0.15085632743963967\n",
      "Current Timestep: 70 Loss: 0.15087154617432866\n",
      "Current Timestep: 80 Loss: 0.1528679843584241\n",
      "Current Timestep: 90 Loss: 0.13780801142648264\n",
      "Accurary: 0.966\n",
      "\n",
      "\n",
      "Trial 2\n",
      "Fixed Step LR:\n",
      "Current Timestep: 0 Loss: 6.856799036245104\n",
      "Current Timestep: 10 Loss: 3.499748848467238\n",
      "Current Timestep: 20 Loss: 0.9345813877822733\n",
      "Current Timestep: 30 Loss: 0.5366805989057267\n",
      "Current Timestep: 40 Loss: 0.3964087260498828\n",
      "Current Timestep: 50 Loss: 0.31706583509347014\n",
      "Current Timestep: 60 Loss: 0.27156915370461404\n",
      "Current Timestep: 70 Loss: 0.24224181436789893\n",
      "Current Timestep: 80 Loss: 0.21939134471490593\n",
      "Current Timestep: 90 Loss: 0.19800160252370605\n",
      "Accurary: 0.9655\n",
      "\n",
      "\n",
      "Natural Gradient LR:\n",
      "Current Timestep: 0 Loss: 6.856799036245104\n",
      "Current Timestep: 10 Loss: 0.24815332305152485\n",
      "Current Timestep: 20 Loss: 0.20143591073029937\n",
      "Current Timestep: 30 Loss: 0.1752746728963096\n",
      "Current Timestep: 40 Loss: 0.1628799266197948\n",
      "Current Timestep: 50 Loss: 0.15336653324085028\n",
      "Current Timestep: 60 Loss: 0.15131953653016186\n",
      "Current Timestep: 70 Loss: 0.1424737644954281\n",
      "Current Timestep: 80 Loss: 0.15165253314352156\n",
      "Current Timestep: 90 Loss: 0.1388065469609624\n",
      "Accurary: 0.966\n",
      "\n",
      "\n",
      "Trial 3\n",
      "Fixed Step LR:\n",
      "Current Timestep: 0 Loss: 6.906867414070431\n",
      "Current Timestep: 10 Loss: 3.7879684301299448\n",
      "Current Timestep: 20 Loss: 0.937650589608391\n",
      "Current Timestep: 30 Loss: 0.5319167076567777\n",
      "Current Timestep: 40 Loss: 0.39090483548729926\n",
      "Current Timestep: 50 Loss: 0.32715600622346364\n",
      "Current Timestep: 60 Loss: 0.2810680171647701\n",
      "Current Timestep: 70 Loss: 0.24434873996481168\n",
      "Current Timestep: 80 Loss: 0.21598297670772998\n",
      "Current Timestep: 90 Loss: 0.19139538287347196\n",
      "Accurary: 0.9615\n",
      "\n",
      "\n",
      "Natural Gradient LR:\n",
      "Current Timestep: 0 Loss: 6.906867414070431\n",
      "Current Timestep: 10 Loss: 0.24585570565912948\n",
      "Current Timestep: 20 Loss: 0.2018204734818789\n",
      "Current Timestep: 30 Loss: 0.17542892973264546\n",
      "Current Timestep: 40 Loss: 0.1712732223323486\n",
      "Current Timestep: 50 Loss: 0.16070710026996005\n",
      "Current Timestep: 60 Loss: 0.16142388598563195\n",
      "Current Timestep: 70 Loss: 0.14976993768499994\n",
      "Current Timestep: 80 Loss: 0.15056720535567375\n",
      "Current Timestep: 90 Loss: 0.14072056298108293\n",
      "Accurary: 0.965\n",
      "\n",
      "\n",
      "Trial 4\n",
      "Fixed Step LR:\n",
      "Current Timestep: 0 Loss: 6.866056053605637\n",
      "Current Timestep: 10 Loss: 3.488781413554939\n",
      "Current Timestep: 20 Loss: 0.9742234788445359\n",
      "Current Timestep: 30 Loss: 0.5683171639226999\n",
      "Current Timestep: 40 Loss: 0.4289320855007927\n",
      "Current Timestep: 50 Loss: 0.3555398065243604\n",
      "Current Timestep: 60 Loss: 0.301547624101014\n",
      "Current Timestep: 70 Loss: 0.26263230383921915\n",
      "Current Timestep: 80 Loss: 0.23373708889551623\n",
      "Current Timestep: 90 Loss: 0.20704040017820516\n",
      "Accurary: 0.963\n",
      "\n",
      "\n",
      "Natural Gradient LR:\n",
      "Current Timestep: 0 Loss: 6.866056053605637\n",
      "Current Timestep: 10 Loss: 0.2475328510030866\n",
      "Current Timestep: 20 Loss: 0.20096841568981297\n",
      "Current Timestep: 30 Loss: 0.17621707011752688\n",
      "Current Timestep: 40 Loss: 0.16993008197664639\n",
      "Current Timestep: 50 Loss: 0.16133440825198964\n",
      "Current Timestep: 60 Loss: 0.15459367403996044\n",
      "Current Timestep: 70 Loss: 0.14434025981753573\n",
      "Current Timestep: 80 Loss: 0.1373262150952319\n",
      "Current Timestep: 90 Loss: 0.13141294701474443\n",
      "Accurary: 0.964\n",
      "\n",
      "\n",
      "Average Accuracy (Fixed Step LR): 0.9619\n",
      "Average Accuracy (Natural Gradient LR): 0.9646999999999999\n"
     ]
    }
   ],
   "source": [
    "# Array of natural gradient loss over time\n",
    "\n",
    "class NaturalGradLR:\n",
    "    def __init__(self, lr, n_iters):\n",
    "        self.theta = None # weights\n",
    "        self.b = None # bias\n",
    "        self.lr = lr\n",
    "        self.n_iters = n_iters\n",
    "        self.losses = []\n",
    "\n",
    "    def fit(self, X, y, init_theta):\n",
    "        n_samples, n_features = X.shape\n",
    "        # uniform random initialization of weights over [0,1]\n",
    "        self.theta = init_theta\n",
    "        self.b = 0\n",
    "\n",
    "        for i in range(self.n_iters):\n",
    "            scores = np.dot(X, self.theta) + self.b # multiplying by weights\n",
    "            y_pred = self.sigmoid(scores) # applying sigmoid\n",
    "                        \n",
    "            # average gradient over entire dataset \n",
    "            dtheta = np.dot(X.T, (y_pred - y))/n_samples\n",
    "\n",
    "            # initialize Fisher information matrix\n",
    "            fisher_info = np.zeros((784,784))\n",
    "            \n",
    "            for j in range(X.shape[1]):\n",
    "                # calculating gradient w.r.t a single datapoint \n",
    "                curr_dtheta = X[j] * (y_pred[j] - y[j])\n",
    "                # updating Fisher information matrix\n",
    "                fisher_info += np.matmul(curr_dtheta, curr_dtheta.T)\n",
    "                \n",
    "            fisher_info = fisher_info/n_samples\n",
    "            \n",
    "            dtheta = np.reshape(dtheta, (-1,1))\n",
    "\n",
    "            fisher_info = fisher_info + np.identity(fisher_info.shape[0])*0.01\n",
    "            inv_fisher_info = np.linalg.inv(fisher_info)\n",
    "            grad = np.matmul(inv_fisher_info, dtheta)\n",
    "            grad = np.reshape(grad, 784)\n",
    "            \n",
    "            # gradient update\n",
    "            self.theta -= self.lr * grad\n",
    "            \n",
    "            # repeating for bias\n",
    "            db = np.sum(y_pred - y)/n_samples\n",
    "            dtheta = np.reshape(db, (-1,1))\n",
    "            fisher_info = np.matmul(dtheta, dtheta.T)\n",
    "            # adding epsilon*I to ensure invertibility \n",
    "            fisher_info = fisher_info + np.identity(fisher_info.shape[0])*0.01\n",
    "            inv_fisher_info = np.linalg.inv(fisher_info)\n",
    "            grad = np.matmul(inv_fisher_info, dtheta)\n",
    "            grad = np.reshape(grad, 1)\n",
    "            \n",
    "            # gradient update\n",
    "            self.b -= self.lr * grad\n",
    "            \n",
    "            self.losses.append(self.cost(y_pred, y, n_samples))\n",
    "            \n",
    "            if i % 10 == 0: # printing loss every 10 iterations\n",
    "                print(\"Current Timestep: \" + str(i) + \" Loss: \" + str(self.cost(y_pred, y, n_samples)))\n",
    "\n",
    "    def predict(self, X):\n",
    "        scores = np.dot(X, self.theta) + self.b # multiplying by weights\n",
    "        y_pred = self.sigmoid(scores) # applying sigmoid\n",
    "        y_pred_class = np.zeros((len(y_pred)))\n",
    "        # rounding probability to determine class \n",
    "        for i in range(len(y_pred)):\n",
    "            if y_pred[i] >= 0.5:\n",
    "                y_pred_class[i] = 1\n",
    "            else:\n",
    "                y_pred_class[i] = 0\n",
    "        return y_pred_class\n",
    "        \n",
    "    def cost(self, y_pred, y, n_samples):\n",
    "        epsilon = 1e-4\n",
    "        c = np.sum(-y * np.log(y_pred+epsilon) - (1-y) * np.log(1-y_pred+epsilon))/n_samples\n",
    "        return c\n",
    "\n",
    "    def sigmoid(self, z):\n",
    "        return (1.0 / (1.0 + np.exp(-z)))\n",
    "    \n",
    "avg_fixed_losses = np.zeros(100)\n",
    "avg_natural_losses = np.zeros(100)\n",
    "\n",
    "avg_fixed_acc = 0\n",
    "avg_nat_acc = 0\n",
    "    \n",
    "for i in range(5):\n",
    "    print(\"Trial \" + str(i))\n",
    "    print(\"Fixed Step LR:\")\n",
    "    \n",
    "    init_theta_fixed = np.random.random(784)\n",
    "    init_theta_nat = np.copy(init_theta_fixed)\n",
    "    \n",
    "    fixedReg = FixedStepLR(lr=0.1, n_iters=100)\n",
    "    fixedReg.fit(trainX_filtered, trainY_filtered, init_theta_fixed)\n",
    "    avg_fixed_losses += fixedReg.losses\n",
    "    preds = fixedReg.predict(testX_filtered)\n",
    "    curr_fixed_acc = np.sum(testY_filtered == preds) / len(testY_filtered)\n",
    "    avg_fixed_acc += curr_fixed_acc\n",
    "    print(\"Accurary: \" + str(curr_fixed_acc))\n",
    "    print(\"\\n\")\n",
    "    \n",
    "    print(\"Natural Gradient LR:\")\n",
    "    naturalReg = NaturalGradLR(lr=0.8, n_iters=100)\n",
    "    naturalReg.fit(trainX_filtered, trainY_filtered, init_theta_nat)\n",
    "    avg_natural_losses += naturalReg.losses\n",
    "    preds = naturalReg.predict(testX_filtered)\n",
    "    curr_nat_acc = np.sum(testY_filtered == preds) / len(testY_filtered)\n",
    "    avg_nat_acc += curr_nat_acc\n",
    "    print(\"Accurary: \" + str(curr_nat_acc))\n",
    "    print(\"\\n\")\n",
    "    \n",
    "avg_fixed_losses /= 5.0\n",
    "avg_natural_losses /= 5.0\n",
    "avg_fixed_acc /= 5.0\n",
    "avg_nat_acc /= 5.0\n",
    "\n",
    "\n",
    "print(\"Average Accuracy (Fixed Step LR): \" + str(avg_fixed_acc))\n",
    "print(\"Average Accuracy (Natural Gradient LR): \" + str(avg_nat_acc))\n"
   ]
  },
  {
   "cell_type": "code",
   "execution_count": 31,
   "id": "f58112fa",
   "metadata": {},
   "outputs": [
    {
     "data": {
      "image/png": "[encoded data removed]",
      "text/plain": [
       "<Figure size 432x288 with 1 Axes>"
      ]
     },
     "metadata": {
      "needs_background": "light"
     },
     "output_type": "display_data"
    }
   ],
   "source": [
    "x_vals = np.linspace(0, 99, 100)\n",
    "\n",
    "plt.plot(x_vals, avg_fixed_losses)\n",
    "plt.plot(x_vals, avg_natural_losses)\n",
    "plt.legend(['Fixed Step LR', 'Natural Gradient LR'])\n",
    "plt.title('Training Loss')\n",
    "plt.show()"
   ]
  },
  {
   "cell_type": "markdown",
   "id": "c02fd4bd",
   "metadata": {},
   "source": [
    "The logistic regression using natural gradient converges in much fewer iterations on average compared to the fixed step logistic regression. As we can see, there is a much more precipitous drop in the training loss of the natural gradient LR compared to the more gradual decrease in the case of fixed step LR. Even though the number of iterations is less, the compute time is slightly more for the natural gradient due to expensive operations like matrix inversion. In addition, I did not vectorize the calculation of the Fisher information matrix, meaning there is an additional loop that could be optimized out. "
   ]
  },
  {
   "cell_type": "code",
   "execution_count": null,
   "id": "eaecc316",
   "metadata": {},
   "outputs": [],
   "source": []
  }
 ],
 "metadata": {
  "kernelspec": {
   "display_name": "Python 3 (ipykernel)",
   "language": "python",
   "name": "python3"
  },
  "language_info": {
   "codemirror_mode": {
    "name": "ipython",
    "version": 3
   },
   "file_extension": ".py",
   "mimetype": "text/x-python",
   "name": "python",
   "nbconvert_exporter": "python",
   "pygments_lexer": "ipython3",
   "version": "3.9.0"
  }
 },
 "nbformat": 4,
 "nbformat_minor": 5
}
